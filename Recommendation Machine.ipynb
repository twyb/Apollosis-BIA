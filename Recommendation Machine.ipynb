{
 "cells": [
  {
   "cell_type": "markdown",
   "metadata": {},
   "source": [
    "# Song Recommendation Using Spotify"
   ]
  },
  {
   "cell_type": "markdown",
   "metadata": {},
   "source": [
    "### Accessing the Spotify API"
   ]
  },
  {
   "cell_type": "code",
   "execution_count": 32,
   "metadata": {
    "collapsed": true
   },
   "outputs": [],
   "source": [
    "import spotipy\n",
    "from spotipy.oauth2 import SpotifyClientCredentials\n",
    "\n",
    "import pandas as pd\n",
    "\n",
    "\n",
    "cid = \"c3dddfed85d44508b9c82203d292cfea\" \n",
    "secret = \"4ed920860f33464aa2e97182c7d0d18e\"\n",
    "\n",
    "client_credentials_manager = SpotifyClientCredentials(client_id = cid, client_secret = secret)\n",
    "sp = spotipy.Spotify(client_credentials_manager=client_credentials_manager)"
   ]
  },
  {
   "cell_type": "markdown",
   "metadata": {},
   "source": [
    "### Inputting the Song Title"
   ]
  },
  {
   "cell_type": "code",
   "execution_count": 35,
   "metadata": {},
   "outputs": [
    {
     "name": "stdout",
     "output_type": "stream",
     "text": [
      "Track: talk khalid\n"
     ]
    }
   ],
   "source": [
    "track = input (\"Track: \")"
   ]
  },
  {
   "cell_type": "markdown",
   "metadata": {},
   "source": [
    "### Collecting Track Data "
   ]
  },
  {
   "cell_type": "code",
   "execution_count": 36,
   "metadata": {},
   "outputs": [
    {
     "name": "stdout",
     "output_type": "stream",
     "text": [
      "Your track info:\n"
     ]
    },
    {
     "data": {
      "text/html": [
       "<div>\n",
       "<style>\n",
       "    .dataframe thead tr:only-child th {\n",
       "        text-align: right;\n",
       "    }\n",
       "\n",
       "    .dataframe thead th {\n",
       "        text-align: left;\n",
       "    }\n",
       "\n",
       "    .dataframe tbody tr th {\n",
       "        vertical-align: top;\n",
       "    }\n",
       "</style>\n",
       "<table border=\"1\" class=\"dataframe\">\n",
       "  <thead>\n",
       "    <tr style=\"text-align: right;\">\n",
       "      <th></th>\n",
       "      <th>name&amp;artist</th>\n",
       "      <th>count</th>\n",
       "      <th>danceability</th>\n",
       "      <th>energy</th>\n",
       "      <th>loudness</th>\n",
       "      <th>speechiness</th>\n",
       "      <th>acousticness</th>\n",
       "      <th>instrumentalness</th>\n",
       "      <th>liveness</th>\n",
       "      <th>valence</th>\n",
       "      <th>tempo</th>\n",
       "    </tr>\n",
       "  </thead>\n",
       "  <tbody>\n",
       "    <tr>\n",
       "      <th>0rTV5WefWd1J3OwIheTzxM</th>\n",
       "      <td>(Talk, Khalid)</td>\n",
       "      <td>0</td>\n",
       "      <td>0.9</td>\n",
       "      <td>0.4</td>\n",
       "      <td>-8.443</td>\n",
       "      <td>0.124</td>\n",
       "      <td>0.0501</td>\n",
       "      <td>0</td>\n",
       "      <td>0.0876</td>\n",
       "      <td>0.338</td>\n",
       "      <td>136.001</td>\n",
       "    </tr>\n",
       "  </tbody>\n",
       "</table>\n",
       "</div>"
      ],
      "text/plain": [
       "                           name&artist  count  danceability  energy  loudness  \\\n",
       "0rTV5WefWd1J3OwIheTzxM  (Talk, Khalid)      0           0.9     0.4    -8.443   \n",
       "\n",
       "                        speechiness  acousticness  instrumentalness  liveness  \\\n",
       "0rTV5WefWd1J3OwIheTzxM        0.124        0.0501                 0    0.0876   \n",
       "\n",
       "                        valence    tempo  \n",
       "0rTV5WefWd1J3OwIheTzxM    0.338  136.001  "
      ]
     },
     "execution_count": 36,
     "metadata": {},
     "output_type": "execute_result"
    }
   ],
   "source": [
    "track_object = sp.search(track, limit=1, type='track')\n",
    "track_id = track_object['tracks']['items'][0]['id']\n",
    "track_name = track_object['tracks']['items'][0]['name']\n",
    "artist_name = track_object['tracks']['items'][0]['album']['artists'][0]['name']\n",
    "track_info = sp.audio_features(track_id)[0]\n",
    "\n",
    "danceability = track_info['danceability']\n",
    "energy = track_info['energy']\n",
    "loudness = track_info['loudness']\n",
    "speechiness = track_info['speechiness']\n",
    "acousticness = track_info['acousticness']\n",
    "instrumentalness = track_info['instrumentalness']\n",
    "liveness = track_info['liveness']\n",
    "valence = track_info['valence']\n",
    "tempo = track_info['tempo']\n",
    "\n",
    "print('Your track info:')\n",
    "track_id_dict = {track_id: [(track_name, artist_name), 0, danceability, energy, loudness, speechiness, acousticness, instrumentalness, liveness, valence, tempo]}\n",
    "track_data = pd.DataFrame.from_dict(track_id_dict, orient = 'index')\n",
    "track_data.columns = ['name&artist', 'count', 'danceability', 'energy', 'loudness', 'speechiness', 'acousticness', 'instrumentalness', 'liveness', 'valence', 'tempo']\n",
    "track_data"
   ]
  },
  {
   "cell_type": "markdown",
   "metadata": {},
   "source": [
    "### Collecting 2,000 song data from Spotify using their recommendations() function"
   ]
  },
  {
   "cell_type": "code",
   "execution_count": 37,
   "metadata": {},
   "outputs": [
    {
     "name": "stdout",
     "output_type": "stream",
     "text": [
      "Done collecting data.\n"
     ]
    }
   ],
   "source": [
    "import time\n",
    "\n",
    "songs_over_time = []\n",
    "track_id = track_object['tracks']['items'][0]['id']\n",
    "\n",
    "for attempt in range(100):\n",
    "    recommended = sp.recommendations(seed_tracks=[track_id], limit=20)\n",
    "    songs_over_time.append(recommended['tracks'])\n",
    "    time.sleep(1)\n",
    "\n",
    "print(\"Done collecting data.\")\n"
   ]
  },
  {
   "cell_type": "markdown",
   "metadata": {},
   "source": [
    "### Arranging Data "
   ]
  },
  {
   "cell_type": "code",
   "execution_count": 38,
   "metadata": {},
   "outputs": [
    {
     "name": "stdout",
     "output_type": "stream",
     "text": [
      "Done arranging data.\n"
     ]
    }
   ],
   "source": [
    "id_dict = {}\n",
    "for i in range(100):\n",
    "    for song_dict in songs_over_time[i]:\n",
    "        song_id = song_dict['id']\n",
    "\n",
    "        if song_id in id_dict:\n",
    "            id_dict[song_id][1] += 1\n",
    "        else:\n",
    "            song_name = song_dict['name']\n",
    "            artist_name = song_dict['album']['artists'][0]['name']\n",
    "            track_info = sp.audio_features(song_id)[0]\n",
    "            danceability = track_info['danceability']\n",
    "            energy = track_info['energy']\n",
    "            loudness = track_info['loudness']\n",
    "            speechiness = track_info['speechiness']\n",
    "            acousticness = track_info['acousticness']\n",
    "            instrumentalness = track_info['instrumentalness']\n",
    "            liveness = track_info['liveness']\n",
    "            valence = track_info['valence']\n",
    "            tempo = track_info['tempo']\n",
    "            \n",
    "            id_dict[song_id] = [(song_name, artist_name), 1, danceability, energy, loudness, speechiness, acousticness, instrumentalness, liveness, valence, tempo]\n",
    "\n",
    "print('Done arranging data.')\n",
    "# id_data = pd.DataFrame.from_dict(id_dict, orient='index')\n",
    "# id_data.columns = ['name&artist', 'count', 'danceability', 'energy', 'loudness', 'speechiness', 'acousticness', 'instrumentalness', 'liveness', 'valence', 'tempo']\n",
    "# id_data = id_data.sort_values(by= ['count'])\n",
    "# id_data.tail()"
   ]
  },
  {
   "cell_type": "markdown",
   "metadata": {},
   "source": [
    "###  Normalizing Data"
   ]
  },
  {
   "cell_type": "code",
   "execution_count": 22,
   "metadata": {},
   "outputs": [
    {
     "name": "stdout",
     "output_type": "stream",
     "text": [
      "Done normalizing data.\n"
     ]
    }
   ],
   "source": [
    "from sklearn import preprocessing as pp\n",
    "\n",
    "normalized_dict = {}\n",
    "id_list = []\n",
    "danceability_list = []\n",
    "energy_list = [] \n",
    "loudness_list = [] \n",
    "speechiness_list = [] \n",
    "acousticness_list = [] \n",
    "instrumentalness_list = []\n",
    "liveness_list = []\n",
    "valence_list = []\n",
    "tempo_list = []\n",
    "\n",
    "for key, value in id_dict.items():\n",
    "    id_list.append(key)\n",
    "    danceability_list.append(value[2])\n",
    "    energy_list.append(value[3])\n",
    "    loudness_list.append(value[4])\n",
    "    speechiness_list.append(value[5])\n",
    "    acousticness_list.append(value[6])\n",
    "    instrumentalness_list.append(value[7])\n",
    "    liveness_list.append(value[8])\n",
    "    valence_list.append(value[9])\n",
    "    tempo_list.append(value[10]) \n",
    "\n",
    "danceability_list = pp.scale(danceability_list)\n",
    "energy_list = pp.scale(energy_list)\n",
    "loudness_list = pp.scale(loudness_list)\n",
    "speechiness_list = pp.scale(speechiness_list)\n",
    "acousticness_list = pp.scale(acousticness_list)\n",
    "instrumentalness_list = pp.scale(instrumentalness_list)\n",
    "liveness_list = pp.scale(liveness_list)\n",
    "valence_list = pp.scale(valence_list)\n",
    "tempo_list = pp.scale(tempo_list)\n",
    "\n",
    "\n",
    "for i in range(len(id_dict)):\n",
    "    key = id_list[i]\n",
    "    name_and_artist = id_dict[key][0]\n",
    "    count = id_dict[key][1]\n",
    "    danceability = danceability_list[i]\n",
    "    energy = energy_list[i]\n",
    "    loudness = loudness_list[i] \n",
    "    speechiness = speechiness_list[i]\n",
    "    acousticness = acousticness_list[i] \n",
    "    instrumentalness = instrumentalness_list[i]\n",
    "    liveness = liveness_list[i]\n",
    "    valence = valence_list[i]\n",
    "    tempo = tempo_list[i]\n",
    "    \n",
    "    normalized_dict[key] = [name_and_artist, count, danceability, energy, loudness, speechiness, acousticness, instrumentalness, liveness, valence, tempo]\n",
    "\n",
    "\n",
    "print('Done normalizing data.')\n",
    "# normalized_data = pd.DataFrame.from_dict(normalized_dict, orient='index')\n",
    "# normalized_data.columns = ['name', 'count', 'danceability', 'energy', 'loudness', 'speechiness', 'acousticness', 'instrumentalness', 'liveness', 'valence', 'tempo']\n",
    "# normalized_data = normalized_data.sort_values(by= ['count'])\n",
    "\n",
    "# normalized_data.tail()"
   ]
  },
  {
   "cell_type": "markdown",
   "metadata": {},
   "source": [
    "### Assigning Index to Tracks"
   ]
  },
  {
   "cell_type": "code",
   "execution_count": 39,
   "metadata": {},
   "outputs": [
    {
     "name": "stdout",
     "output_type": "stream",
     "text": [
      "Done assigning index.\n"
     ]
    }
   ],
   "source": [
    "def positive(n):\n",
    "    if n < 0:\n",
    "        return n * -1\n",
    "    return n\n",
    "\n",
    "\n",
    "diff_dict = {}\n",
    "\n",
    "for key, value in id_dict.items():\n",
    "    for track_key, track_value in track_id_dict.items():\n",
    "        track_id = track_key\n",
    "        track_value = track_value\n",
    "        track_name = track_value[0]\n",
    "\n",
    "    diff = 0\n",
    "    for i in range(2, 11):\n",
    "        to_add = positive(value[i] - track_value[i])\n",
    "        diff += to_add\n",
    "        \n",
    "    name_and_artist = value[0]\n",
    "    name = name_and_artist[0]\n",
    "    artist = name_and_artist[1]\n",
    "    count = value[1]\n",
    "    index = diff / count\n",
    "    \n",
    "    diff_dict[name] = [artist, index]\n",
    "    \n",
    "\n",
    "print('Done assigning index.')\n",
    "# diff_data = pd.DataFrame.from_dict(diff_dict, orient='index')\n",
    "# diff_data.columns = ['artist', 'index']\n",
    "# diff_data = diff_data.sort_values(by= ['index'])\n",
    "\n",
    "# normalized_data.head()"
   ]
  },
  {
   "cell_type": "markdown",
   "metadata": {},
   "source": [
    "### Final Recommendations !!"
   ]
  },
  {
   "cell_type": "code",
   "execution_count": 40,
   "metadata": {},
   "outputs": [
    {
     "data": {
      "text/html": [
       "<div>\n",
       "<style>\n",
       "    .dataframe thead tr:only-child th {\n",
       "        text-align: right;\n",
       "    }\n",
       "\n",
       "    .dataframe thead th {\n",
       "        text-align: left;\n",
       "    }\n",
       "\n",
       "    .dataframe tbody tr th {\n",
       "        vertical-align: top;\n",
       "    }\n",
       "</style>\n",
       "<table border=\"1\" class=\"dataframe\">\n",
       "  <thead>\n",
       "    <tr style=\"text-align: right;\">\n",
       "      <th></th>\n",
       "      <th>artist</th>\n",
       "      <th>index</th>\n",
       "    </tr>\n",
       "  </thead>\n",
       "  <tbody>\n",
       "    <tr>\n",
       "      <th>Talk</th>\n",
       "      <td>Khalid</td>\n",
       "      <td>0.000000</td>\n",
       "    </tr>\n",
       "    <tr>\n",
       "      <th>STFU</th>\n",
       "      <td>mansionz</td>\n",
       "      <td>0.194792</td>\n",
       "    </tr>\n",
       "    <tr>\n",
       "      <th>Fish N Grits (feat. Travis Scott)</th>\n",
       "      <td>Wale</td>\n",
       "      <td>0.195807</td>\n",
       "    </tr>\n",
       "    <tr>\n",
       "      <th>Nympho</th>\n",
       "      <td>Jeremih</td>\n",
       "      <td>0.252036</td>\n",
       "    </tr>\n",
       "    <tr>\n",
       "      <th>The Flute Song</th>\n",
       "      <td>Russ</td>\n",
       "      <td>0.324830</td>\n",
       "    </tr>\n",
       "    <tr>\n",
       "      <th>Poledancer (feat. Megan Thee Stallion)</th>\n",
       "      <td>Wale</td>\n",
       "      <td>0.373750</td>\n",
       "    </tr>\n",
       "    <tr>\n",
       "      <th>773 Love</th>\n",
       "      <td>Jeremih</td>\n",
       "      <td>0.374757</td>\n",
       "    </tr>\n",
       "    <tr>\n",
       "      <th>ABCD (Friend Zone)</th>\n",
       "      <td>PnB Rock</td>\n",
       "      <td>0.546340</td>\n",
       "    </tr>\n",
       "    <tr>\n",
       "      <th>Iced Out My Arms (feat. Future, Migos, 21 Savage &amp; T.I.)</th>\n",
       "      <td>DJ Khaled</td>\n",
       "      <td>0.549458</td>\n",
       "    </tr>\n",
       "    <tr>\n",
       "      <th>REEL IT IN</th>\n",
       "      <td>Aminé</td>\n",
       "      <td>0.549729</td>\n",
       "    </tr>\n",
       "    <tr>\n",
       "      <th>Straightjacket</th>\n",
       "      <td>Quinn XCII</td>\n",
       "      <td>0.594817</td>\n",
       "    </tr>\n",
       "    <tr>\n",
       "      <th>Cutting Ties</th>\n",
       "      <td>6LACK</td>\n",
       "      <td>0.624432</td>\n",
       "    </tr>\n",
       "    <tr>\n",
       "      <th>e.z. (feat. Machine Gun Kelly)</th>\n",
       "      <td>blackbear</td>\n",
       "      <td>0.637041</td>\n",
       "    </tr>\n",
       "    <tr>\n",
       "      <th>Girls Like U</th>\n",
       "      <td>blackbear</td>\n",
       "      <td>0.657811</td>\n",
       "    </tr>\n",
       "    <tr>\n",
       "      <th>jealous</th>\n",
       "      <td>gianni &amp; kyle</td>\n",
       "      <td>0.667600</td>\n",
       "    </tr>\n",
       "    <tr>\n",
       "      <th>Did You See NAV?</th>\n",
       "      <td>NAV</td>\n",
       "      <td>0.674074</td>\n",
       "    </tr>\n",
       "    <tr>\n",
       "      <th>Amsterdam</th>\n",
       "      <td>Jeremih</td>\n",
       "      <td>0.674163</td>\n",
       "    </tr>\n",
       "    <tr>\n",
       "      <th>Running on E.</th>\n",
       "      <td>Brent Faiyaz</td>\n",
       "      <td>0.677411</td>\n",
       "    </tr>\n",
       "    <tr>\n",
       "      <th>Break Bread (feat. King Vory)</th>\n",
       "      <td>Bryson Tiller</td>\n",
       "      <td>0.685330</td>\n",
       "    </tr>\n",
       "    <tr>\n",
       "      <th>Hold Your Hand</th>\n",
       "      <td>NAV</td>\n",
       "      <td>0.707113</td>\n",
       "    </tr>\n",
       "    <tr>\n",
       "      <th>Batter Up</th>\n",
       "      <td>Mike Stud</td>\n",
       "      <td>0.721986</td>\n",
       "    </tr>\n",
       "  </tbody>\n",
       "</table>\n",
       "</div>"
      ],
      "text/plain": [
       "                                                           artist     index\n",
       "Talk                                                       Khalid  0.000000\n",
       "STFU                                                     mansionz  0.194792\n",
       "Fish N Grits (feat. Travis Scott)                            Wale  0.195807\n",
       "Nympho                                                    Jeremih  0.252036\n",
       "The Flute Song                                               Russ  0.324830\n",
       "Poledancer (feat. Megan Thee Stallion)                       Wale  0.373750\n",
       "773 Love                                                  Jeremih  0.374757\n",
       "ABCD (Friend Zone)                                       PnB Rock  0.546340\n",
       "Iced Out My Arms (feat. Future, Migos, 21 Savag...      DJ Khaled  0.549458\n",
       "REEL IT IN                                                  Aminé  0.549729\n",
       "Straightjacket                                         Quinn XCII  0.594817\n",
       "Cutting Ties                                                6LACK  0.624432\n",
       "e.z. (feat. Machine Gun Kelly)                          blackbear  0.637041\n",
       "Girls Like U                                            blackbear  0.657811\n",
       "jealous                                             gianni & kyle  0.667600\n",
       "Did You See NAV?                                              NAV  0.674074\n",
       "Amsterdam                                                 Jeremih  0.674163\n",
       "Running on E.                                        Brent Faiyaz  0.677411\n",
       "Break Bread (feat. King Vory)                       Bryson Tiller  0.685330\n",
       "Hold Your Hand                                                NAV  0.707113\n",
       "Batter Up                                               Mike Stud  0.721986"
      ]
     },
     "execution_count": 40,
     "metadata": {},
     "output_type": "execute_result"
    }
   ],
   "source": [
    "diff_data = pd.DataFrame.from_dict(diff_dict, orient='index')\n",
    "diff_data.columns = ['artist', 'index']\n",
    "diff_data = diff_data.sort_values(by= ['index']).nsmallest(21, 'index')\n",
    "diff_data"
   ]
  },
  {
   "cell_type": "code",
   "execution_count": null,
   "metadata": {
    "collapsed": true
   },
   "outputs": [],
   "source": []
  }
 ],
 "metadata": {
  "kernelspec": {
   "display_name": "Python 3",
   "language": "python",
   "name": "python3"
  },
  "language_info": {
   "codemirror_mode": {
    "name": "ipython",
    "version": 3
   },
   "file_extension": ".py",
   "mimetype": "text/x-python",
   "name": "python",
   "nbconvert_exporter": "python",
   "pygments_lexer": "ipython3",
   "version": "3.6.1"
  }
 },
 "nbformat": 4,
 "nbformat_minor": 2
}
